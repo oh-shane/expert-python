{
 "cells": [
  {
   "cell_type": "code",
   "execution_count": 1,
   "metadata": {},
   "outputs": [],
   "source": [
    "class Dog:\n",
    "    def __init__(self):\n",
    "        self.bark() # No error"
   ]
  },
  {
   "cell_type": "code",
   "execution_count": 2,
   "metadata": {},
   "outputs": [
    {
     "name": "stdout",
     "output_type": "stream",
     "text": [
      "<class '__main__.make_class.<locals>.Dog'>\n",
      "100\n"
     ]
    }
   ],
   "source": [
    "def make_class(x):\n",
    "    class Dog:\n",
    "        def __init__(self, name):\n",
    "            self.name = name\n",
    "\n",
    "        def print_value(self):\n",
    "            print(x)\n",
    "\n",
    "    return Dog # 'Dog' is a class which is an object\n",
    "\n",
    "cls = make_class(100) # 'make_class' working as a class maker (constructor)\n",
    "print(cls)\n",
    "\n",
    "d = cls(\"Tim\")\n",
    "d.print_value()"
   ]
  },
  {
   "cell_type": "code",
   "execution_count": 3,
   "metadata": {},
   "outputs": [
    {
     "name": "stdout",
     "output_type": "stream",
     "text": [
      "0\n",
      "2\n",
      "4\n",
      "6\n",
      "8\n",
      "10\n",
      "12\n",
      "14\n",
      "16\n",
      "18\n"
     ]
    }
   ],
   "source": [
    "for i in range(10):\n",
    "    def show(): # defined once in compile-time and overwritten 10 times in runtime\n",
    "        print(i*2)\n",
    "    show()"
   ]
  },
  {
   "cell_type": "code",
   "execution_count": 4,
   "metadata": {},
   "outputs": [
    {
     "name": "stdout",
     "output_type": "stream",
     "text": [
      "9\n",
      "18\n"
     ]
    }
   ],
   "source": [
    "for i in range(10):\n",
    "    pass\n",
    "print(i) # 'i' is not scoped inside the for-loop\n",
    "\n",
    "for i in range(10):\n",
    "    def show():\n",
    "        print(i*2)\n",
    "show()"
   ]
  },
  {
   "cell_type": "code",
   "execution_count": 5,
   "metadata": {},
   "outputs": [
    {
     "name": "stdout",
     "output_type": "stream",
     "text": [
      "X is equal to 1\n"
     ]
    }
   ],
   "source": [
    "def func(x):\n",
    "    if x == 1:\n",
    "        def rv():\n",
    "            print(\"X is equal to 1\")\n",
    "    else:\n",
    "        def rv():\n",
    "            print(\"X is not 1\")\n",
    "    return rv\n",
    "\n",
    "new_func = func(1)\n",
    "new_func()"
   ]
  },
  {
   "cell_type": "code",
   "execution_count": 6,
   "metadata": {},
   "outputs": [
    {
     "data": {
      "text/plain": [
       "[('__annotations__', {}),\n",
       " ('__call__',\n",
       "  <method-wrapper '__call__' of function object at 0x7fc5b012a940>),\n",
       " ('__class__', function),\n",
       " ('__closure__', None),\n",
       " ('__code__',\n",
       "  <code object foo at 0x7fc5b0127710, file \"<ipython-input-6-b51f2706dd04>\", line 3>),\n",
       " ('__defaults__', None),\n",
       " ('__delattr__',\n",
       "  <method-wrapper '__delattr__' of function object at 0x7fc5b012a940>),\n",
       " ('__dict__', {}),\n",
       " ('__dir__', <function function.__dir__()>),\n",
       " ('__doc__', None),\n",
       " ('__eq__', <method-wrapper '__eq__' of function object at 0x7fc5b012a940>),\n",
       " ('__format__', <function function.__format__(format_spec, /)>),\n",
       " ('__ge__', <method-wrapper '__ge__' of function object at 0x7fc5b012a940>),\n",
       " ('__get__', <method-wrapper '__get__' of function object at 0x7fc5b012a940>),\n",
       " ('__getattribute__',\n",
       "  <method-wrapper '__getattribute__' of function object at 0x7fc5b012a940>),\n",
       " ('__globals__',\n",
       "  {'__name__': '__main__',\n",
       "   '__doc__': 'Automatically created module for IPython interactive environment',\n",
       "   '__package__': None,\n",
       "   '__loader__': None,\n",
       "   '__spec__': None,\n",
       "   '__builtin__': <module 'builtins' (built-in)>,\n",
       "   '__builtins__': <module 'builtins' (built-in)>,\n",
       "   '_ih': ['',\n",
       "    'class Dog:\\n    def __init__(self):\\n        self.bark() # No error',\n",
       "    'def make_class(x):\\n    class Dog:\\n        def __init__(self, name):\\n            self.name = name\\n\\n        def print_value(self):\\n            print(x)\\n\\n    return Dog # \\'Dog\\' is a class which is an object\\n\\ncls = make_class(100) # \\'make_class\\' working as a class maker (constructor)\\nprint(cls)\\n\\nd = cls(\"Tim\")\\nd.print_value()',\n",
       "    'for i in range(10):\\n    def show(): # defined once in compile-time and overwritten 10 times in runtime\\n        print(i*2)\\n    show()',\n",
       "    \"for i in range(10):\\n    pass\\nprint(i) # 'i' is not scoped inside the for-loop\\n\\nfor i in range(10):\\n    def show():\\n        print(i*2)\\nshow()\",\n",
       "    'def func(x):\\n    if x == 1:\\n        def rv():\\n            print(\"X is equal to 1\")\\n    else:\\n        def rv():\\n            print(\"X is not 1\")\\n    return rv\\n\\nnew_func = func(1)\\nnew_func()',\n",
       "    'import inspect\\n\\ndef foo():\\n    pass\\n\\ninspect.getmembers(foo)'],\n",
       "   '_oh': {},\n",
       "   '_dh': ['/home/shane/workspace/expert-python'],\n",
       "   'In': ['',\n",
       "    'class Dog:\\n    def __init__(self):\\n        self.bark() # No error',\n",
       "    'def make_class(x):\\n    class Dog:\\n        def __init__(self, name):\\n            self.name = name\\n\\n        def print_value(self):\\n            print(x)\\n\\n    return Dog # \\'Dog\\' is a class which is an object\\n\\ncls = make_class(100) # \\'make_class\\' working as a class maker (constructor)\\nprint(cls)\\n\\nd = cls(\"Tim\")\\nd.print_value()',\n",
       "    'for i in range(10):\\n    def show(): # defined once in compile-time and overwritten 10 times in runtime\\n        print(i*2)\\n    show()',\n",
       "    \"for i in range(10):\\n    pass\\nprint(i) # 'i' is not scoped inside the for-loop\\n\\nfor i in range(10):\\n    def show():\\n        print(i*2)\\nshow()\",\n",
       "    'def func(x):\\n    if x == 1:\\n        def rv():\\n            print(\"X is equal to 1\")\\n    else:\\n        def rv():\\n            print(\"X is not 1\")\\n    return rv\\n\\nnew_func = func(1)\\nnew_func()',\n",
       "    'import inspect\\n\\ndef foo():\\n    pass\\n\\ninspect.getmembers(foo)'],\n",
       "   'Out': {},\n",
       "   'get_ipython': <bound method InteractiveShell.get_ipython of <ipykernel.zmqshell.ZMQInteractiveShell object at 0x7fc5b327fc10>>,\n",
       "   'exit': <IPython.core.autocall.ZMQExitAutocall at 0x7fc5b0198fa0>,\n",
       "   'quit': <IPython.core.autocall.ZMQExitAutocall at 0x7fc5b0198fa0>,\n",
       "   '_': '',\n",
       "   '__': '',\n",
       "   '___': '',\n",
       "   'os': <module 'os' from '/home/shane/.pyenv/versions/anaconda3-2021.05/lib/python3.8/os.py'>,\n",
       "   'sys': <module 'sys' (built-in)>,\n",
       "   '_i': 'def func(x):\\n    if x == 1:\\n        def rv():\\n            print(\"X is equal to 1\")\\n    else:\\n        def rv():\\n            print(\"X is not 1\")\\n    return rv\\n\\nnew_func = func(1)\\nnew_func()',\n",
       "   '_ii': \"for i in range(10):\\n    pass\\nprint(i) # 'i' is not scoped inside the for-loop\\n\\nfor i in range(10):\\n    def show():\\n        print(i*2)\\nshow()\",\n",
       "   '_iii': 'for i in range(10):\\n    def show(): # defined once in compile-time and overwritten 10 times in runtime\\n        print(i*2)\\n    show()',\n",
       "   '_i1': 'class Dog:\\n    def __init__(self):\\n        self.bark() # No error',\n",
       "   'Dog': __main__.Dog,\n",
       "   '_i2': 'def make_class(x):\\n    class Dog:\\n        def __init__(self, name):\\n            self.name = name\\n\\n        def print_value(self):\\n            print(x)\\n\\n    return Dog # \\'Dog\\' is a class which is an object\\n\\ncls = make_class(100) # \\'make_class\\' working as a class maker (constructor)\\nprint(cls)\\n\\nd = cls(\"Tim\")\\nd.print_value()',\n",
       "   'make_class': <function __main__.make_class(x)>,\n",
       "   'cls': __main__.make_class.<locals>.Dog,\n",
       "   'd': <__main__.make_class.<locals>.Dog at 0x7fc5b012b310>,\n",
       "   '_i3': 'for i in range(10):\\n    def show(): # defined once in compile-time and overwritten 10 times in runtime\\n        print(i*2)\\n    show()',\n",
       "   'i': 9,\n",
       "   'show': <function __main__.show()>,\n",
       "   '_i4': \"for i in range(10):\\n    pass\\nprint(i) # 'i' is not scoped inside the for-loop\\n\\nfor i in range(10):\\n    def show():\\n        print(i*2)\\nshow()\",\n",
       "   '_i5': 'def func(x):\\n    if x == 1:\\n        def rv():\\n            print(\"X is equal to 1\")\\n    else:\\n        def rv():\\n            print(\"X is not 1\")\\n    return rv\\n\\nnew_func = func(1)\\nnew_func()',\n",
       "   'func': <function __main__.func(x)>,\n",
       "   'new_func': <function __main__.func.<locals>.rv()>,\n",
       "   '_i6': 'import inspect\\n\\ndef foo():\\n    pass\\n\\ninspect.getmembers(foo)',\n",
       "   'inspect': <module 'inspect' from '/home/shane/.pyenv/versions/anaconda3-2021.05/lib/python3.8/inspect.py'>,\n",
       "   'foo': <function __main__.foo()>}),\n",
       " ('__gt__', <method-wrapper '__gt__' of function object at 0x7fc5b012a940>),\n",
       " ('__hash__',\n",
       "  <method-wrapper '__hash__' of function object at 0x7fc5b012a940>),\n",
       " ('__init__',\n",
       "  <method-wrapper '__init__' of function object at 0x7fc5b012a940>),\n",
       " ('__init_subclass__', <function function.__init_subclass__>),\n",
       " ('__kwdefaults__', None),\n",
       " ('__le__', <method-wrapper '__le__' of function object at 0x7fc5b012a940>),\n",
       " ('__lt__', <method-wrapper '__lt__' of function object at 0x7fc5b012a940>),\n",
       " ('__module__', '__main__'),\n",
       " ('__name__', 'foo'),\n",
       " ('__ne__', <method-wrapper '__ne__' of function object at 0x7fc5b012a940>),\n",
       " ('__new__', <function function.__new__(*args, **kwargs)>),\n",
       " ('__qualname__', 'foo'),\n",
       " ('__reduce__', <function function.__reduce__()>),\n",
       " ('__reduce_ex__', <function function.__reduce_ex__(protocol, /)>),\n",
       " ('__repr__',\n",
       "  <method-wrapper '__repr__' of function object at 0x7fc5b012a940>),\n",
       " ('__setattr__',\n",
       "  <method-wrapper '__setattr__' of function object at 0x7fc5b012a940>),\n",
       " ('__sizeof__', <function function.__sizeof__()>),\n",
       " ('__str__', <method-wrapper '__str__' of function object at 0x7fc5b012a940>),\n",
       " ('__subclasshook__', <function function.__subclasshook__>)]"
      ]
     },
     "execution_count": 6,
     "metadata": {},
     "output_type": "execute_result"
    }
   ],
   "source": [
    "import inspect\n",
    "\n",
    "def foo():\n",
    "    pass\n",
    "\n",
    "inspect.getmembers(foo)"
   ]
  },
  {
   "cell_type": "code",
   "execution_count": 7,
   "metadata": {},
   "outputs": [
    {
     "data": {
      "text/plain": [
       "'def foo():\\n    pass\\n'"
      ]
     },
     "execution_count": 7,
     "metadata": {},
     "output_type": "execute_result"
    }
   ],
   "source": [
    "inspect.getsource(foo)"
   ]
  }
 ],
 "metadata": {
  "interpreter": {
   "hash": "d1c7ddf6bb70615f2a858b187d3630d31071650494c3b4ed8e6e2e8f304fbb71"
  },
  "kernelspec": {
   "display_name": "Python 3.8.8 64-bit ('anaconda3-2021.05': pyenv)",
   "language": "python",
   "name": "python3"
  },
  "language_info": {
   "codemirror_mode": {
    "name": "ipython",
    "version": 3
   },
   "file_extension": ".py",
   "mimetype": "text/x-python",
   "name": "python",
   "nbconvert_exporter": "python",
   "pygments_lexer": "ipython3",
   "version": "3.8.8"
  },
  "orig_nbformat": 4
 },
 "nbformat": 4,
 "nbformat_minor": 2
}
