{
 "cells": [
  {
   "cell_type": "code",
   "execution_count": 7,
   "metadata": {},
   "outputs": [],
   "source": [
    "import os\n",
    "from pathlib import Path\n",
    "\n",
    "file = open(\"file.txt\", \"w\")\n",
    "try:\n",
    "    file.write(\"hello\")\n",
    "finally:\n",
    "    file.close()\n",
    "\n",
    "# context manager ('with' statement) used with shared context (file io, shared memory)\n",
    "with open(\"file.txt\", \"w\") as file:\n",
    "    file.write(\"hello\")"
   ]
  },
  {
   "cell_type": "code",
   "execution_count": 8,
   "metadata": {},
   "outputs": [
    {
     "name": "stdout",
     "output_type": "stream",
     "text": [
      "-------enter--------\n",
      "writing...\n",
      "--------exit--------\n",
      "type      = <class 'Exception'>\n",
      "value     = Exception('Intended error')\n",
      "traceback = <traceback object at 0x7f165d60dd80>\n"
     ]
    }
   ],
   "source": [
    "class File:\n",
    "    def __init__(self, filename, method):\n",
    "        self.file = open(filename, method)\n",
    "    \n",
    "    def __enter__(self): # Called with 'with' statement\n",
    "        print(f\"{'enter':-^20}\")\n",
    "        return self.file\n",
    "\n",
    "    def __exit__(self, type, value, traceback): # '__exit__' is called even if an error occurs\n",
    "        print(f\"{'exit':-^20}\")\n",
    "        print(f\"{type      = }\")\n",
    "        print(f\"{value     = }\")\n",
    "        print(f\"{traceback = }\")\n",
    "        self.file.close()\n",
    "        return True # Exits with no exception stop (sth like with file())\n",
    "\n",
    "        # (no return == return None == return False)\n",
    "        # if value is FileNotFoundError:\n",
    "        #     return False\n",
    "        # if value is TimeoutError:\n",
    "        #     return True\n",
    "        \n",
    "\n",
    "with File(\"file.txt\", \"w\") as file:\n",
    "    print(\"writing...\")\n",
    "    file.write(\"hello\")\n",
    "    raise Exception(\"Intended error\")"
   ]
  },
  {
   "cell_type": "code",
   "execution_count": 9,
   "metadata": {},
   "outputs": [],
   "source": [
    "# decorate a generator as a context manager\n",
    "from contextlib import contextmanager\n",
    "\n",
    "@contextmanager\n",
    "def file(filename, method):\n",
    "    file = open(filename, method)\n",
    "    yield file\n",
    "    file.close()\n",
    "\n",
    "with file(\"file.txt\", \"w\") as file:\n",
    "    file.write(\"hello\")"
   ]
  }
 ],
 "metadata": {
  "interpreter": {
   "hash": "d1c7ddf6bb70615f2a858b187d3630d31071650494c3b4ed8e6e2e8f304fbb71"
  },
  "kernelspec": {
   "display_name": "Python 3.8.8 64-bit ('anaconda3-2021.05': pyenv)",
   "language": "python",
   "name": "python3"
  },
  "language_info": {
   "codemirror_mode": {
    "name": "ipython",
    "version": 3
   },
   "file_extension": ".py",
   "mimetype": "text/x-python",
   "name": "python",
   "nbconvert_exporter": "python",
   "pygments_lexer": "ipython3",
   "version": "3.8.8"
  },
  "orig_nbformat": 4
 },
 "nbformat": 4,
 "nbformat_minor": 2
}
