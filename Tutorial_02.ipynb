{
 "cells": [
  {
   "cell_type": "code",
   "execution_count": 30,
   "metadata": {},
   "outputs": [
    {
     "name": "stdout",
     "output_type": "stream",
     "text": [
      "3\n",
      "[1, 2, 3, 4, 5]\n",
      "[1, 2, 3, 1, 2, 3, 1, 2, 3]\n"
     ]
    }
   ],
   "source": [
    "import inspect\n",
    "\n",
    "x = [1, 2, 3]\n",
    "y = [4, 5]\n",
    "\n",
    "# 'list' has implemented \n",
    "print(len(x)) # __len__\n",
    "print(x + y)  # __add__\n",
    "print(x * 3)  # __mul__"
   ]
  },
  {
   "cell_type": "code",
   "execution_count": 37,
   "metadata": {},
   "outputs": [
    {
     "name": "stdout",
     "output_type": "stream",
     "text": [
      "A person with a name 'TimTimTim'\n",
      "9\n",
      "__call__ has been called with the value 100 using '()'\n"
     ]
    }
   ],
   "source": [
    "# Data model\n",
    "\n",
    "class Person:\n",
    "    def __init__(self, name):\n",
    "        self.name = name\n",
    "\n",
    "    def __repr__(self):\n",
    "        return f\"A person with a name \\'{self.name}\\'\"\n",
    "\n",
    "    def __mul__(self, x):\n",
    "        if type(x) is not int:\n",
    "            raise Exception(\"Invalid argument, must be integer\")\n",
    "        self.name *= 3\n",
    "\n",
    "    def __call__(self, x):\n",
    "        print(f\"__call__ has been called with the value {x} using \\'()\\'\")\n",
    "\n",
    "    def __len__(self):\n",
    "        return len(self.name)\n",
    "\n",
    "p = Person(\"Tim\")\n",
    "p * 3\n",
    "print(p)\n",
    "print(len(p))\n",
    "p(100)"
   ]
  }
 ],
 "metadata": {
  "interpreter": {
   "hash": "d1c7ddf6bb70615f2a858b187d3630d31071650494c3b4ed8e6e2e8f304fbb71"
  },
  "kernelspec": {
   "display_name": "Python 3.8.8 64-bit ('anaconda3-2021.05': pyenv)",
   "language": "python",
   "name": "python3"
  },
  "language_info": {
   "name": "python",
   "version": "3.8.8"
  },
  "orig_nbformat": 4
 },
 "nbformat": 4,
 "nbformat_minor": 2
}
