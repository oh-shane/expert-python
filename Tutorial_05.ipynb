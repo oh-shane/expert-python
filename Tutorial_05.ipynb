{
 "cells": [
  {
   "cell_type": "code",
   "execution_count": 1,
   "metadata": {},
   "outputs": [
    {
     "name": "stdout",
     "output_type": "stream",
     "text": [
      "904\n",
      "112\n",
      "112\n"
     ]
    }
   ],
   "source": [
    "import sys\n",
    "\n",
    "# Generator\n",
    "n = 100\n",
    "powers_list = [i**2 for i in range(n)]\n",
    "powers_gen  = (i**2 for i in range(n))\n",
    "\n",
    "def powers_gen_func(n):\n",
    "    for i in range(n):\n",
    "        yield i**2 # Pauses function until it gets called again\n",
    "\n",
    "print(sys.getsizeof(powers_list))\n",
    "print(sys.getsizeof(powers_gen))\n",
    "print(sys.getsizeof(powers_gen_func(n)))"
   ]
  },
  {
   "cell_type": "code",
   "execution_count": 2,
   "metadata": {},
   "outputs": [
    {
     "name": "stdout",
     "output_type": "stream",
     "text": [
      "[1, 10, 100, 1000]\n",
      "1\n",
      "10\n",
      "100\n",
      "1000\n",
      "no more element\n"
     ]
    }
   ],
   "source": [
    "def gen():\n",
    "    yield 1\n",
    "    yield 10\n",
    "    yield 100\n",
    "    yield 1000\n",
    "\n",
    "print(list(gen()))\n",
    "\n",
    "g = gen()\n",
    "while True:\n",
    "    try:\n",
    "        print(next(g)) # '__next__' is implemented\n",
    "    except StopIteration:\n",
    "        print(\"no more element\")\n",
    "        break"
   ]
  }
 ],
 "metadata": {
  "interpreter": {
   "hash": "d1c7ddf6bb70615f2a858b187d3630d31071650494c3b4ed8e6e2e8f304fbb71"
  },
  "kernelspec": {
   "display_name": "Python 3.8.8 64-bit ('anaconda3-2021.05': pyenv)",
   "language": "python",
   "name": "python3"
  },
  "language_info": {
   "codemirror_mode": {
    "name": "ipython",
    "version": 3
   },
   "file_extension": ".py",
   "mimetype": "text/x-python",
   "name": "python",
   "nbconvert_exporter": "python",
   "pygments_lexer": "ipython3",
   "version": "3.8.8"
  },
  "orig_nbformat": 4
 },
 "nbformat": 4,
 "nbformat_minor": 2
}
