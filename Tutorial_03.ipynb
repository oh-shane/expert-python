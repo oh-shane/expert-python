{
 "cells": [
  {
   "cell_type": "code",
   "execution_count": 1,
   "metadata": {},
   "outputs": [
    {
     "name": "stdout",
     "output_type": "stream",
     "text": [
      "<class '__main__.Test'>\n",
      "<class 'type'>\n",
      "<class '__main__.Test'>\n",
      "<class 'type'>\n"
     ]
    }
   ],
   "source": [
    "# type class\n",
    "# If class is an object there is a higher level class which makes a class\n",
    "\n",
    "class Test:\n",
    "    pass\n",
    "\n",
    "print(type(Test())) # 'Test()' object is from <class '__main__.Test'>\n",
    "print(type(Test))   # 'Test' object is from <class 'type'>\n",
    "\n",
    "# making 'Test' object from type class\n",
    "Test = type('Test', (), {}) # () -> inheritance, {} -> props\n",
    "\n",
    "print(type(Test()))\n",
    "print(type(Test))"
   ]
  },
  {
   "cell_type": "code",
   "execution_count": 2,
   "metadata": {},
   "outputs": [],
   "source": [
    "# Using class keyword\n",
    "class Foo:\n",
    "    def say_hi():\n",
    "        print(\"hi\")\n",
    "\n",
    "class Test(Foo):\n",
    "    x = 100\n",
    "    y = 200\n",
    "    def foo():\n",
    "        pass\n",
    "\n",
    "# Using type\n",
    "def foo():\n",
    "    pass\n",
    "\n",
    "Test = type('Test', (Foo,), {\"x\":100, \"y\":200, \"foo\":foo})"
   ]
  },
  {
   "cell_type": "code",
   "execution_count": 3,
   "metadata": {},
   "outputs": [
    {
     "name": "stdout",
     "output_type": "stream",
     "text": [
      "namespace = {'__module__': '__main__', '__qualname__': 'Dog', 'x': 100, 'y': 200, 'bark': <function Dog.bark at 0x7efe9c611040>}\n",
      "namespace = {'__module__': '__main__', '__qualname__': 'Dog', 'X': 100, 'Y': 200, 'BARK': <function Dog.bark at 0x7efe9c611040>}\n",
      "dog.bark() 'dog' has no attribute bark()\n",
      "dog.BARK() Woof\n"
     ]
    }
   ],
   "source": [
    "# Meta class (inherits from type class), a higher constructor API\n",
    "\n",
    "class Meta(type):\n",
    "    def __new__(cls, name, bases, namespace): # same functionality as type()\n",
    "        print(f\"{namespace = }\")\n",
    "        namespace = dict([(k, v) if k.startswith('__') else (k.upper(), v) for k, v in namespace.items()])\n",
    "        print(f\"{namespace = }\")\n",
    "        return type(name, bases, namespace)\n",
    "\n",
    "class Dog(metaclass=Meta):\n",
    "    x = 100\n",
    "    y = 200\n",
    "\n",
    "    def bark(self):\n",
    "        print(\"Woof\")\n",
    "\n",
    "dog = Dog()\n",
    "try:\n",
    "    print(\"dog.bark()\", end=\" \")\n",
    "    dog.bark()\n",
    "except:\n",
    "    print(\"\\'dog\\' has no attribute bark()\")\n",
    "try:\n",
    "    print(\"dog.BARK()\", end=\" \")\n",
    "    dog.BARK()\n",
    "except:\n",
    "    print(\"\\'dog\\' has no attribute BARK()\")"
   ]
  }
 ],
 "metadata": {
  "interpreter": {
   "hash": "d1c7ddf6bb70615f2a858b187d3630d31071650494c3b4ed8e6e2e8f304fbb71"
  },
  "kernelspec": {
   "display_name": "Python 3.8.8 64-bit ('anaconda3-2021.05': pyenv)",
   "language": "python",
   "name": "python3"
  },
  "language_info": {
   "codemirror_mode": {
    "name": "ipython",
    "version": 3
   },
   "file_extension": ".py",
   "mimetype": "text/x-python",
   "name": "python",
   "nbconvert_exporter": "python",
   "pygments_lexer": "ipython3",
   "version": "3.8.8"
  },
  "orig_nbformat": 4
 },
 "nbformat": 4,
 "nbformat_minor": 2
}
