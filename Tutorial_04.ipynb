{
 "cells": [
  {
   "cell_type": "code",
   "execution_count": 1,
   "metadata": {},
   "outputs": [
    {
     "name": "stdout",
     "output_type": "stream",
     "text": [
      "-------start--------\n",
      "hello\n",
      "--------end---------\n"
     ]
    }
   ],
   "source": [
    "def func(s):\n",
    "    def wrapper():\n",
    "        print(f\"{'start':-^20}\")\n",
    "        print(s)\n",
    "        print(f\"{'end':-^20}\")\n",
    "    return wrapper\n",
    "\n",
    "f = func(\"hello\")\n",
    "f()"
   ]
  },
  {
   "cell_type": "code",
   "execution_count": 2,
   "metadata": {},
   "outputs": [
    {
     "name": "stdout",
     "output_type": "stream",
     "text": [
      "-------start--------\n",
      "hello from func2\n",
      "--------end---------\n",
      "-------start--------\n",
      "hello from func3\n",
      "--------end---------\n"
     ]
    }
   ],
   "source": [
    "def func(f):\n",
    "    def wrapper():\n",
    "        print(f\"{'start':-^20}\")\n",
    "        f()\n",
    "        print(f\"{'end':-^20}\")\n",
    "    return wrapper\n",
    "\n",
    "def func2():\n",
    "    print(\"hello from func2\")\n",
    "\n",
    "def func3():\n",
    "    print(\"hello from func3\")\n",
    "\n",
    "f = func(func2) # We just want to call func2 and automatically call func\n",
    "f()\n",
    "f = func(func3) # We just want to call func3 and automatically call func\n",
    "f()\n",
    "# -> func is being used as a decorator"
   ]
  },
  {
   "cell_type": "code",
   "execution_count": 3,
   "metadata": {},
   "outputs": [
    {
     "name": "stdout",
     "output_type": "stream",
     "text": [
      "-------start--------\n",
      "hello from func2\n",
      "--------end---------\n",
      "-------start--------\n",
      "hello from func3\n",
      "--------end---------\n"
     ]
    }
   ],
   "source": [
    "func2 = func(func2)\n",
    "func3 = func(func3)\n",
    "func2() # func is embedded inside func2\n",
    "func3() # func is embedded inside func3"
   ]
  },
  {
   "cell_type": "code",
   "execution_count": 4,
   "metadata": {},
   "outputs": [
    {
     "name": "stdout",
     "output_type": "stream",
     "text": [
      "-------start--------\n",
      "hello from func2\n",
      "--------end---------\n",
      "-------start--------\n",
      "hello from func3\n",
      "--------end---------\n"
     ]
    }
   ],
   "source": [
    "def func(f):\n",
    "    def wrapper():\n",
    "        print(f\"{'start':-^20}\")\n",
    "        f()\n",
    "        print(f\"{'end':-^20}\")\n",
    "    return wrapper\n",
    "\n",
    "@func # same as func2 = func(func2)\n",
    "def func2():\n",
    "    print(\"hello from func2\")\n",
    "\n",
    "@func # same as func3 = func(func3)\n",
    "def func3():\n",
    "    print(\"hello from func3\")\n",
    "\n",
    "func2()\n",
    "func3()"
   ]
  },
  {
   "cell_type": "code",
   "execution_count": 5,
   "metadata": {},
   "outputs": [
    {
     "name": "stdout",
     "output_type": "stream",
     "text": [
      "-------start--------\n",
      "func2\n",
      "--------end---------\n",
      "input length is 4\n",
      "-------start--------\n",
      "func3\n",
      "args = (65, 66, 67, 68, 69)\n",
      "kwargs = {'A': 65, 'B': 66, 'C': 67, 'D': 68, 'E': 69}\n",
      "--------end---------\n",
      "input length of args = 5, kwargs = 5\n"
     ]
    }
   ],
   "source": [
    "# What if a func2 needs some input arguments and a return value?\n",
    "# -> *args, **kwargs\n",
    "\n",
    "def func(f):\n",
    "    def wrapper(*args, **kwargs):\n",
    "        print(f\"{'start':-^20}\")\n",
    "        value = f(*args, **kwargs)\n",
    "        print(f\"{'end':-^20}\")\n",
    "        return value\n",
    "    return wrapper\n",
    "\n",
    "@func # same as func2 = func(func2)\n",
    "def func2(msg):\n",
    "    print(\"func2\")\n",
    "    return f\"input length is {len(msg)}\"\n",
    "\n",
    "@func\n",
    "def func3(*args, **kwargs):\n",
    "    print(\"func3\")\n",
    "    print(f\"{args = }\")\n",
    "    print(f\"{kwargs = }\")\n",
    "    return f\"input length of args = {len(args)}, kwargs = {len(kwargs)}\"\n",
    "\n",
    "value = func2(\"hola\")\n",
    "print(value)\n",
    "\n",
    "ords = list(range(65,70))\n",
    "chrs = dict([(chr(i), i) for i in ords])\n",
    "value = func3(*ords, **chrs)\n",
    "print(value)"
   ]
  },
  {
   "cell_type": "code",
   "execution_count": 6,
   "metadata": {},
   "outputs": [
    {
     "name": "stdout",
     "output_type": "stream",
     "text": [
      "Time: 0.00323849699634593\n",
      "p = 0.5033\n"
     ]
    }
   ],
   "source": [
    "import time\n",
    "import random\n",
    "\n",
    "def timer(func):\n",
    "    def wrapper(*args, **kwargs):\n",
    "        start = time.perf_counter()\n",
    "        value = func(*args, **kwargs)\n",
    "        total = time.perf_counter() - start\n",
    "        print(f\"Time: {total}\")\n",
    "        return value\n",
    "    return wrapper\n",
    "\n",
    "@timer\n",
    "def frequentist(n):\n",
    "    count = 0\n",
    "    for i in range(n):\n",
    "        if random.random() > 0.5:\n",
    "            count += 1\n",
    "    return count / n\n",
    "\n",
    "p = frequentist(10000)\n",
    "print(f\"{p = }\")"
   ]
  }
 ],
 "metadata": {
  "interpreter": {
   "hash": "d1c7ddf6bb70615f2a858b187d3630d31071650494c3b4ed8e6e2e8f304fbb71"
  },
  "kernelspec": {
   "display_name": "Python 3.8.8 64-bit ('anaconda3-2021.05': pyenv)",
   "language": "python",
   "name": "python3"
  },
  "language_info": {
   "codemirror_mode": {
    "name": "ipython",
    "version": 3
   },
   "file_extension": ".py",
   "mimetype": "text/x-python",
   "name": "python",
   "nbconvert_exporter": "python",
   "pygments_lexer": "ipython3",
   "version": "3.8.8"
  },
  "orig_nbformat": 4
 },
 "nbformat": 4,
 "nbformat_minor": 2
}
